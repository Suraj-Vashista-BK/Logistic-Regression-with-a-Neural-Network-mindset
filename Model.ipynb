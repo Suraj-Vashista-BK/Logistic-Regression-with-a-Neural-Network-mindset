{
 "cells": [
  {
   "cell_type": "code",
   "execution_count": 1,
   "metadata": {},
   "outputs": [],
   "source": [
    "import scipy\n",
    "import os\n",
    "import cv2\n",
    "import matplotlib.pyplot as plt\n",
    "import numpy as np"
   ]
  },
  {
   "cell_type": "code",
   "execution_count": 2,
   "metadata": {},
   "outputs": [],
   "source": [
    "rows=64\n",
    "cols=64\n",
    "channels=3\n",
    "\n",
    "train_dir='train_data/'\n",
    "test_dir='test_data/'\n",
    "\n",
    "train_images=[train_dir+i for i in os.listdir(train_dir)]\n",
    "test_images=[test_dir+i for i in os.listdir(test_dir)]"
   ]
  },
  {
   "cell_type": "code",
   "execution_count": 3,
   "metadata": {},
   "outputs": [],
   "source": [
    "def read_image(image):\n",
    "    img=cv2.imread(image,1)\n",
    "    return cv2.resize(img,(rows,cols),interpolation=cv2.INTER_CUBIC)"
   ]
  },
  {
   "cell_type": "code",
   "execution_count": 4,
   "metadata": {},
   "outputs": [],
   "source": [
    "def prepare_data(images):\n",
    "    m=len(images)\n",
    "    X=np.zeros((m,rows,cols,channels),dtype=np.uint8)\n",
    "    y=np.zeros((1,m))\n",
    "    for i,image_file in enumerate(images):\n",
    "        X[i,:]=read_image(image_file)\n",
    "        if 'cat' in image_file.lower():\n",
    "            y[0,i]=1\n",
    "        elif 'dog' in image_file.lower():\n",
    "            y[0,i]=0\n",
    "    return X,y\n",
    "            "
   ]
  },
  {
   "cell_type": "code",
   "execution_count": 5,
   "metadata": {},
   "outputs": [],
   "source": [
    "train_set,train_labels=prepare_data(train_images)\n",
    "test_set,test_labels=prepare_data(test_images)\n",
    "\n",
    "train_set_flatten=train_set.reshape(train_set.shape[0],channels*rows*cols).T\n",
    "test_set_flatten=test_set.reshape(test_set.shape[0],-1).T\n",
    "\n",
    "train_set=train_set_flatten/255\n",
    "test_set=test_set_flatten/255"
   ]
  },
  {
   "cell_type": "code",
   "execution_count": 6,
   "metadata": {},
   "outputs": [],
   "source": [
    "def sigmoid(z):\n",
    "    res=1/(1+np.exp(-z))\n",
    "    return res"
   ]
  },
  {
   "cell_type": "code",
   "execution_count": 7,
   "metadata": {},
   "outputs": [],
   "source": [
    "def propagation(w,b,X,Y):\n",
    "    m=X.shape[1]\n",
    "    \n",
    "    Z=np.dot(w.T,X)+b\n",
    "    A=sigmoid(Z)\n",
    "    cost=(-np.sum(Y*np.log(A)+(1-Y)*np.log(1-A)))/m\n",
    "    \n",
    "    dw=(np.dot(X,(A-Y).T))/m\n",
    "    db=np.average(A-Y)\n",
    "    \n",
    "    cost=np.squeeze(cost)\n",
    "    \n",
    "    grads={'dw':dw,'db':db}\n",
    "    \n",
    "    return grads,cost\n",
    "    "
   ]
  },
  {
   "cell_type": "code",
   "execution_count": 8,
   "metadata": {},
   "outputs": [],
   "source": [
    "def optimizer(w,b,X,Y,num_iteration,learning_rate,print_cost=False):\n",
    "    costs=[]\n",
    "    for i in range(num_iteration):\n",
    "        grads,cost=propagation(w,b,X,Y)\n",
    "        \n",
    "        dw=grads['dw']\n",
    "        db=grads['db']\n",
    "        \n",
    "        w=w-learning_rate*dw\n",
    "        b=b-learning_rate*db\n",
    "        \n",
    "        if i%100 ==0:\n",
    "            costs.append(cost)\n",
    "            \n",
    "    params={'w':w,'b':b}\n",
    "        \n",
    "    grads={'dw':dw,'db':db}\n",
    "        \n",
    "    return params,grads,costs"
   ]
  },
  {
   "cell_type": "code",
   "execution_count": 9,
   "metadata": {},
   "outputs": [],
   "source": [
    "def predict(w,b,X):\n",
    "    m=X.shape[1]\n",
    "    y_predict=np.zeros((1,m))\n",
    "    w=w.reshape(X.shape[0],1)\n",
    "    \n",
    "    z=np.dot(w.T,X)+b\n",
    "    A=sigmoid(z)\n",
    "    \n",
    "    for i in range(A.shape[1]):\n",
    "        if A[0,i]>0.5:\n",
    "            y_predict[[0],[i]]=1\n",
    "        else:\n",
    "            y_predict[[0],[i]]=0\n",
    "    return y_predict\n",
    "    "
   ]
  },
  {
   "cell_type": "code",
   "execution_count": 10,
   "metadata": {},
   "outputs": [],
   "source": [
    "def initialize(dim):\n",
    "    w=np.zeros((dim,1))\n",
    "    b=0\n",
    "    return w,b"
   ]
  },
  {
   "cell_type": "code",
   "execution_count": 11,
   "metadata": {},
   "outputs": [],
   "source": [
    "def model(X_train,Y_train,X_test,Y_test,num_iteration=200,learning_rate=0.5,print_cost=False):\n",
    "    w,b=initialize(X_train.shape[0])\n",
    "    params,grads,cost=optimizer(w,b,X_train,Y_train,num_iteration,learning_rate,print_cost)\n",
    "    w=params['w']\n",
    "    b=params['b']\n",
    "    \n",
    "    Y_predict_train=predict(w,b,X_train)\n",
    "    Y_predict_test=predict(w,b,X_test)\n",
    "    \n",
    "    print(\"train accuracy: {} %\".format(100 - np.mean(np.abs(Y_predict_train - Y_train)) * 100))\n",
    "    print(\"test accuracy: {} %\".format(100 - np.mean(np.abs(Y_predict_test - Y_test)) * 100))\n",
    "    \n",
    "    res_dict = {\"cost\": cost,\n",
    "            \"Y_predict_test\": Y_predict_test,\n",
    "            \"Y_predict_train\": Y_predict_train,\n",
    "            \"w\": w,\n",
    "            \"b\": b,\n",
    "            \"learning_rate\": learning_rate,\n",
    "            \"num_iterations:\": num_iteration}\n",
    "    return res_dict"
   ]
  },
  {
   "cell_type": "code",
   "execution_count": 12,
   "metadata": {
    "scrolled": true
   },
   "outputs": [
    {
     "name": "stdout",
     "output_type": "stream",
     "text": [
      "train accuracy: 67.075 %\n",
      "test accuracy: 60.05 %\n"
     ]
    }
   ],
   "source": [
    "d=model(train_set,train_labels,test_set,test_labels,num_iteration=3000,learning_rate=0.003,print_cost=True)\n"
   ]
  },
  {
   "cell_type": "code",
   "execution_count": 13,
   "metadata": {},
   "outputs": [
    {
     "name": "stdout",
     "output_type": "stream",
     "text": [
      "0.0\n"
     ]
    }
   ],
   "source": [
    "test_img = \"cat.jpg\"\n",
    "test_img = read_image(test_img).reshape(1, rows*cols*channels).T\n",
    "prediction = predict(d[\"w\"], d[\"b\"], test_img)\n",
    "print(np.squeeze(prediction))"
   ]
  }
 ],
 "metadata": {
  "kernelspec": {
   "display_name": "Python 3",
   "language": "python",
   "name": "python3"
  },
  "language_info": {
   "codemirror_mode": {
    "name": "ipython",
    "version": 3
   },
   "file_extension": ".py",
   "mimetype": "text/x-python",
   "name": "python",
   "nbconvert_exporter": "python",
   "pygments_lexer": "ipython3",
   "version": "3.7.4"
  }
 },
 "nbformat": 4,
 "nbformat_minor": 2
}
